{
 "cells": [
  {
   "cell_type": "markdown",
   "metadata": {},
   "source": [
    "##### Install package using either of `conda` or `pip`. Make sure to choose the right environment."
   ]
  },
  {
   "cell_type": "code",
   "execution_count": null,
   "metadata": {},
   "outputs": [],
   "source": [
    "# Install through conda. .\n",
    "\n",
    "import sys\n",
    "\n",
    "!conda install --yes --prefix {sys.prefix} sage boltons dill"
   ]
  },
  {
   "cell_type": "code",
   "execution_count": null,
   "metadata": {},
   "outputs": [],
   "source": [
    "# Install through pip. Note that SageMath would have to be installed separately.\n",
    "\n",
    "import pip\n",
    "\n",
    "# Install mahmoud/boltons. Used in the eGraph class.\n",
    "pip.main(['install', 'boltons'])\n",
    "\n",
    "# Install uqfoundation/dill. Required to save lambda functions.\n",
    "pip.main(['install', 'dill'])"
   ]
  }
 ],
 "metadata": {
  "kernelspec": {
   "display_name": "SageMath 8.3 [conda env:sage-dtd]",
   "language": "",
   "name": "conda-env-sage-dtd-sagemath"
  },
  "language_info": {
   "codemirror_mode": {
    "name": "ipython",
    "version": 2
   },
   "file_extension": ".py",
   "mimetype": "text/x-python",
   "name": "python",
   "nbconvert_exporter": "python",
   "pygments_lexer": "ipython2",
   "version": "2.7.14"
  }
 },
 "nbformat": 4,
 "nbformat_minor": 2
}
