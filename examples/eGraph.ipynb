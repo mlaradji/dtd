{
 "cells": [
  {
   "cell_type": "code",
   "execution_count": 1,
   "metadata": {},
   "outputs": [],
   "source": [
    "# eGraph (extended Graph) is based on the sage Graph object and inherits all of its functions. \n",
    "# eGraph has additional functions of general use (that is, not particular to double triangle operations)."
   ]
  },
  {
   "cell_type": "code",
   "execution_count": 2,
   "metadata": {},
   "outputs": [],
   "source": [
    "sys.path.append('..')\n",
    "\n",
    "from eGraph.eGraph import eGraph  # Names are unnecessarily nested. Perhaps this should be changed.\n",
    "\n",
    "import common.graphs as cg\n",
    "import common.functions as cf"
   ]
  },
  {
   "cell_type": "code",
   "execution_count": 3,
   "metadata": {},
   "outputs": [
    {
     "name": "stdout",
     "output_type": "stream",
     "text": [
      "1) {'is_4_regular': True}\n",
      "2) {'is_4_regular': -5488005634797168441}\n",
      "3) {'triangles_count': <function triangles_count at 0x7f2a84a556e0>, 'is_4_regular': <function <lambda> at 0x7f2a84a5c2a8>, 'order': <function <lambda> at 0x7f2a8597d410>, 'level': <function <lambda> at 0x7f2a84a5c320>}\n",
      "4) True\n",
      "5) False\n",
      "6) False\n"
     ]
    }
   ],
   "source": [
    "# eGraph Functions\n",
    "# G.counts, G.hashes, G.count_functions\n",
    "\n",
    "G=eGraph(cg.K5()) #K5\n",
    "\n",
    "## Adding a count_function. Note that count_function must take a graph as its only input. For functions\n",
    "### that take more than one input, we can convert it to single-input function using lambda.\n",
    "### Example:\n",
    "\n",
    "count_name = 'is_4_regular'\n",
    "count_function = lambda G: G.is_regular(4)\n",
    "\n",
    "## To add it to G.counts, we do:\n",
    "\n",
    "G.count(count_name, count_function)\n",
    "\n",
    "### This adds count_name to G.counts and G.hashes, and count_function to G.count_functions:\n",
    "\n",
    "cf.num_print(1, G.counts)\n",
    "cf.num_print(2, G.hashes)\n",
    "cf.num_print(3, G.count_functions)\n",
    "\n",
    "## As long as the graph is not changed, the stored value will be valid. This is checked by comparing the\n",
    "### current hash of the graph with the hash at the time the value is calculated. To obtain the stored value,\n",
    "### we can use G.count(count_name).\n",
    "\n",
    "cf.num_print(4, G.count('is_4_regular'))\n",
    "\n",
    "## Suppose we add a vertex to G. Calling G.count('is_4_regular') will automatically calculate a new value\n",
    "### because the graph has been changed:\n",
    "\n",
    "G.add_vertex()\n",
    "\n",
    "cf.num_print(5, G.is_regular(4)) # Should be False\n",
    "cf.num_print(6, G.count('is_4_regular')) # Also False\n",
    "\n",
    "\n",
    "## What is the usefulness of G.counts? Well, if there is a specific value that takes time to compute, \n",
    "###  say chromatic number, G.counts allows one to avoid recalculating the value over and over again. It can\n",
    "###  also be used to speed up preexisting coding without changing it, if one redefines a built-in function\n",
    "###  to make use of G.counts. See, for example, .triangles_count and .level in eGraph.py."
   ]
  },
  {
   "cell_type": "code",
   "execution_count": 4,
   "metadata": {},
   "outputs": [
    {
     "name": "stdout",
     "output_type": "stream",
     "text": [
      "7) {'triangles_count': None, 'is_4_regular': None, 'order': None}\n",
      "8) NoneReturned\n",
      "9) True\n",
      "9) False\n"
     ]
    }
   ],
   "source": [
    "# Other uses of G.counts.\n",
    "## G.satisfies_conditions()\n",
    "## Suppose we want to check if G is of order 5, has triangles_count 10, and is_4_regular. We first add the\n",
    "### count_name's and count_function's:\n",
    "\n",
    "G = eGraph(cg.K5())\n",
    "\n",
    "# Though we could have used G.count, G.set_count has the advantage of not precalculating the values.\n",
    "\n",
    "G.set_count('order', count_function = lambda G: G.order()) #  This is already done at initialization.\n",
    "G.set_count('triangles_count', count_function =  lambda G: G.triangles_count())  # This is already done at initialization.\n",
    "G.set_count('is_4_regular', count_function =  lambda G: G.is_regular(4))\n",
    "\n",
    "cf.num_print(7, G.counts) # Check that count_name's are in G.counts.\n",
    "\n",
    "## We note that the values are None. G.check_count should tell us that:\n",
    "\n",
    "from common.exceptions import NoneReturned\n",
    "try:\n",
    "    G.check_count('order')\n",
    "except NoneReturned:\n",
    "    cf.num_print(8, 'NoneReturned')\n",
    "    \n",
    "## Now, let's set our conditions dictionary.\n",
    "\n",
    "conditions = {'order': 5, 'triangles_count': 10, 'is_4_regular': True}\n",
    "\n",
    "cf.num_print(9, G.satisfies_conditions(conditions)) # Should be True\n",
    "\n",
    "### Change one of the conditions.\n",
    "\n",
    "conditions['order'] = 4\n",
    "\n",
    "cf.num_print(9, G.satisfies_conditions(conditions)) # Should be False"
   ]
  },
  {
   "cell_type": "code",
   "execution_count": 5,
   "metadata": {},
   "outputs": [
    {
     "name": "stdout",
     "output_type": "stream",
     "text": [
      "Help on method identify_vertices in module eGraph.eGraph:\n",
      "\n",
      "identify_vertices(self, v1, v2) unbound eGraph.eGraph.eGraph method\n",
      "    This identifies v2 with v1, and for every vertex u adjacent to v2, the edge (u,v1) is added.\n",
      "\n",
      "Help on method crossing_into_vertex in module eGraph.eGraph:\n",
      "\n",
      "crossing_into_vertex(self, e1, e2) unbound eGraph.eGraph.eGraph method\n",
      "    Subdivides e1, e2 and identifies the resultant degree 2 vertices. Returns the new vertex that was created.\n",
      "\n",
      "Help on method symmetric_difference in module eGraph.eGraph:\n",
      "\n",
      "symmetric_difference(self, graph) unbound eGraph.eGraph.eGraph method\n",
      "    Returns a new graph that is the symmetric difference of self and graph, defined to be the graph that contains the edges that are in exactly one of self and graph.\n",
      "\n",
      "Help on method has_isomorphic_subgraph in module eGraph.eGraph:\n",
      "\n",
      "has_isomorphic_subgraph(self, graph) unbound eGraph.eGraph.eGraph method\n",
      "    Returns True if self has graph as an isomorphic subgraph, and False otherwise.\n",
      "\n"
     ]
    }
   ],
   "source": [
    "# Other functions.\n",
    "\n",
    "### There are other functions in the eGraph class that could be of general use.\n",
    "\n",
    "help(eGraph.identify_vertices)\n",
    "help(eGraph.crossing_into_vertex)\n",
    "help(eGraph.symmetric_difference)\n",
    "help(eGraph.has_isomorphic_subgraph)"
   ]
  }
 ],
 "metadata": {
  "kernelspec": {
   "display_name": "SageMath 8.2",
   "language": "",
   "name": "sagemath"
  },
  "language_info": {
   "codemirror_mode": {
    "name": "ipython",
    "version": 2
   },
   "file_extension": ".py",
   "mimetype": "text/x-python",
   "name": "python",
   "nbconvert_exporter": "python",
   "pygments_lexer": "ipython2",
   "version": "2.7.14"
  }
 },
 "nbformat": 4,
 "nbformat_minor": 2
}
