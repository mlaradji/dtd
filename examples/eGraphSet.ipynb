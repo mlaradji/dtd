{
 "cells": [
  {
   "cell_type": "code",
   "execution_count": 6,
   "metadata": {},
   "outputs": [],
   "source": [
    "sys.path.append('..')\n",
    "\n",
    "from eGraphSet.eGraphSet import eGraphSet\n",
    "from eGraph.eGraph import eGraph\n",
    "\n",
    "import common.graphs as cg\n",
    "import common.functions as cf\n",
    "import common.exceptions as ce"
   ]
  },
  {
   "cell_type": "code",
   "execution_count": 7,
   "metadata": {},
   "outputs": [],
   "source": [
    "# Initialize the eGraphSet F.\n",
    "F = eGraphSet()\n",
    "G = eGraph(cg.K5()) # cg.K5() is the complete graph on 5 vertices K5.\n",
    "F.add_graph(G)"
   ]
  },
  {
   "cell_type": "code",
   "execution_count": 8,
   "metadata": {},
   "outputs": [
    {
     "name": "stdout",
     "output_type": "stream",
     "text": [
      "1) Complete graph\n",
      "2) False\n",
      "3) True\n",
      "4) Complete graph\n",
      "5) None\n"
     ]
    }
   ],
   "source": [
    "# F.contains(G) checks if (an immutable copy of) G is in F. If it is, the function returns G, else, it returns None.\n",
    "\n",
    "cf.autonum_print(F.contains(G), reset_num = True) # Returns G.\n",
    "\n",
    "# F.contains(G) defaults to checking for isomorphic copies. This could be turned off by setting isomorphic = False.\n",
    "H = G.copy()\n",
    "H.relabel({i: i+5 for i in range(0,5)})\n",
    "\n",
    "cf.autonum_print(H == G) # False.\n",
    "cf.autonum_print(H.is_isomorphic(G)) # True.\n",
    "\n",
    "cf.autonum_print(F.contains(H)) # Returns G.\n",
    "cf.autonum_print(F.contains(H, isomorphic = False)) # Returns None."
   ]
  },
  {
   "cell_type": "code",
   "execution_count": 9,
   "metadata": {},
   "outputs": [
    {
     "name": "stdout",
     "output_type": "stream",
     "text": [
      "6) Complete graph\n",
      "7) [5, 6, 7, 8, 9]\n",
      "8) False\n",
      "9) True\n",
      "10) None\n"
     ]
    }
   ],
   "source": [
    "# F.add_graph(G) returns a duplicate graph if it exists. If F doesn't contain a duplicate of G, it returns None.\n",
    "\n",
    "cf.autonum_print(F.add_graph(G)) # Returns G.\n",
    "\n",
    "## We can check for isomorphic copies using the require_nonisomorphic option. \n",
    "## Require_nonisomorphic defaults to True.\n",
    "\n",
    "H = G.copy()\n",
    "H.relabel({i: i+5 for i in range(0,5)})\n",
    "cf.autonum_print(H.vertices()) # [5,6,7,8,9]\n",
    "\n",
    "cf.autonum_print(H == G) # False\n",
    "cf.autonum_print(H.is_isomorphic(G)) # True\n",
    "\n",
    "cf.autonum_print(F.add_graph(H, require_nonisomorphic = False)) # Should be None since H /= G."
   ]
  },
  {
   "cell_type": "code",
   "execution_count": 10,
   "metadata": {},
   "outputs": [
    {
     "name": "stdout",
     "output_type": "stream",
     "text": [
      "11) None\n",
      "12) FileAlreadyExists\n"
     ]
    }
   ],
   "source": [
    "# Saving.\n",
    "## The eGraphSet class (and all classes based on it) have built-in save functions.\n",
    "\n",
    "## Initialize the eGraphSet F. Let's add the graphs K_1, K_2, ..., K_6.\n",
    "F = eGraphSet()\n",
    "\n",
    "for i in range(0,7):\n",
    "        \n",
    "    ### Convert the Graph object to an eGraph object. \n",
    "    ### This is not automatically done and if G is not an eGraph, F.add_graph(G) will raise an error.\n",
    "    G = eGraph(graphs.CompleteGraph(i)) \n",
    "\n",
    "    ### Add G to F.\n",
    "    F.add_graph(G)\n",
    "\n",
    "## Let's store the hashes so that we can check that the save/load work properly.\n",
    "G_hashes_presave = [G.hash() for G in F]\n",
    "\n",
    "## Now we save the eGraphSet. Note that \".egs\" is automatically appended to the filename. For custom\n",
    "### extensions, we can use the 'extension' option. If the save is successful, the function F.save passes\n",
    "### without errors or output. Otherwise, an exception will be raised.\n",
    "\n",
    "cf.autonum_print(F.save(filename = 'eGraphSet', path = \"./\")) # Should be None.\n",
    "\n",
    "### If the file already exists, a FileAlreadyExists exception is raised. This exception can be ignored, and\n",
    "### the preexsting file overwrited, by setting the 'overwrite' option to True.\n",
    "\n",
    "try:\n",
    "    F.save(filename = 'eGraphSet', path = \"./\")\n",
    "    \n",
    "except ce.FileAlreadyExists:\n",
    "    cf.autonum_print(\"FileAlreadyExists\")\n",
    "    \n",
    "### Let's overwrite the file.\n",
    "\n",
    "F.save(filename = 'eGraphSet', path = \"./\", overwrite = True) # Passes without error."
   ]
  },
  {
   "cell_type": "code",
   "execution_count": 11,
   "metadata": {},
   "outputs": [
    {
     "name": "stdout",
     "output_type": "stream",
     "text": [
      "13) True\n"
     ]
    }
   ],
   "source": [
    "# Loading.\n",
    "\n",
    "## To load a file, we can use cf.load.\n",
    "\n",
    "K = cf.load(\"eGraphSet.egs\", path = \"./\")\n",
    "\n",
    "cf.autonum_print(K == F) # True."
   ]
  }
 ],
 "metadata": {
  "kernelspec": {
   "display_name": "SageMath 8.3 [conda env:sage-dtd]",
   "language": "",
   "name": "conda-env-sage-dtd-sagemath"
  },
  "language_info": {
   "codemirror_mode": {
    "name": "ipython",
    "version": 2
   },
   "file_extension": ".py",
   "mimetype": "text/x-python",
   "name": "python",
   "nbconvert_exporter": "python",
   "pygments_lexer": "ipython2",
   "version": "2.7.14"
  }
 },
 "nbformat": 4,
 "nbformat_minor": 2
}
