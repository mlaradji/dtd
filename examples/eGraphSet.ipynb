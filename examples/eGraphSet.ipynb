{
 "cells": [
  {
   "cell_type": "code",
   "execution_count": 1,
   "metadata": {},
   "outputs": [],
   "source": [
    "sys.path.append('..')\n",
    "\n",
    "from eGraphSet.eGraphSet import eGraphSet\n",
    "from eGraph.eGraph import eGraph\n",
    "\n",
    "import common.graphs as cg\n",
    "import common.functions as cf"
   ]
  },
  {
   "cell_type": "code",
   "execution_count": 2,
   "metadata": {},
   "outputs": [],
   "source": [
    "# Initialize the eGraphSet F.\n",
    "F = eGraphSet()\n",
    "G = eGraph(cg.K5()) # cg.K5() is the complete graph on 5 vertices K5.\n",
    "F.add_graph(G)"
   ]
  },
  {
   "cell_type": "code",
   "execution_count": 3,
   "metadata": {},
   "outputs": [
    {
     "name": "stdout",
     "output_type": "stream",
     "text": [
      "1) Complete graph\n",
      "2) False\n",
      "3) True\n",
      "4) Complete graph\n",
      "5) None\n"
     ]
    }
   ],
   "source": [
    "# F.contains(G) checks if (an immutable copy of) G is in F. If it is, the function returns G, else, it returns None.\n",
    "\n",
    "cf.autonum_print(F.contains(G), reset_num = True) # Returns G.\n",
    "\n",
    "# F.contains(G) defaults to checking for isomorphic copies. This could be turned off by setting isomorphic = False.\n",
    "H = G.copy()\n",
    "H.relabel({i: i+5 for i in range(0,5)})\n",
    "\n",
    "cf.autonum_print(H == G) # False.\n",
    "cf.autonum_print(H.is_isomorphic(G)) # True.\n",
    "\n",
    "cf.autonum_print(F.contains(H)) # Returns G.\n",
    "cf.autonum_print(F.contains(H, isomorphic = False)) # Returns None."
   ]
  },
  {
   "cell_type": "code",
   "execution_count": 4,
   "metadata": {},
   "outputs": [
    {
     "name": "stdout",
     "output_type": "stream",
     "text": [
      "6) Complete graph\n",
      "7) [5, 6, 7, 8, 9]\n",
      "8) False\n",
      "9) True\n",
      "10) None\n"
     ]
    }
   ],
   "source": [
    "# F.add_graph(G) returns a duplicate graph if it exists. If F doesn't contain a duplicate of G, it returns None.\n",
    "\n",
    "cf.autonum_print(F.add_graph(G)) # Returns G.\n",
    "\n",
    "## We can check for isomorphic copies using the require_nonisomorphic option. \n",
    "## Require_nonisomorphic defaults to True.\n",
    "\n",
    "H = G.copy()\n",
    "H.relabel({i: i+5 for i in range(0,5)})\n",
    "cf.autonum_print(H.vertices()) # [5,6,7,8,9]\n",
    "\n",
    "cf.autonum_print(H == G) # False\n",
    "cf.autonum_print(H.is_isomorphic(G)) # True\n",
    "\n",
    "cf.autonum_print(F.add_graph(H, require_nonisomorphic = False)) # Should be None since H /= G."
   ]
  }
 ],
 "metadata": {
  "kernelspec": {
   "display_name": "SageMath 8.2",
   "language": "",
   "name": "sagemath"
  },
  "language_info": {
   "codemirror_mode": {
    "name": "ipython",
    "version": 2
   },
   "file_extension": ".py",
   "mimetype": "text/x-python",
   "name": "python",
   "nbconvert_exporter": "python",
   "pygments_lexer": "ipython2",
   "version": "2.7.14"
  }
 },
 "nbformat": 4,
 "nbformat_minor": 2
}
