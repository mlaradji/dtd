{
 "cells": [
  {
   "cell_type": "code",
   "execution_count": null,
   "metadata": {},
   "outputs": [],
   "source": [
    "from k5descendants import dtrl, vpdl, search, examples"
   ]
  },
  {
   "cell_type": "code",
   "execution_count": null,
   "metadata": {},
   "outputs": [],
   "source": [
    "# start descendant search from scratch\n",
    "\n",
    "family=list()\n",
    "search.descendant_search(family, max_order=20, max_level=5, initialize=True, savefile=True, savename='descendants', print_time=True)"
   ]
  },
  {
   "cell_type": "code",
   "execution_count": null,
   "metadata": {},
   "outputs": [],
   "source": [
    "# continue descendant search\n",
    "\n",
    "search.descendant_search(family, max_order=20, max_level=5, initialize=False, savefile=True, savename='descendants', print_time=True)"
   ]
  },
  {
   "cell_type": "code",
   "execution_count": null,
   "metadata": {},
   "outputs": [],
   "source": [
    "# Enumerate graphs in family list.\n",
    "\n",
    "for order in range(0,len(family)):\n",
    "    for level in range(0,len(family[order])):\n",
    "        levelsum=0\n",
    "        for chno in range(0,len(family[order][level])):\n",
    "            for zgno in range(0,len(family[order][level][chno])):\n",
    "                levelsum+=len(family[order][level][chno][zgno])\n",
    "        if levelsum!=0 and level==0:\n",
    "            print(str(order)+'-'+str(level)+'-'+str(levelsum))  "
   ]
  }
 ],
 "metadata": {
  "kernelspec": {
   "display_name": "SageMath 8.1",
   "language": "",
   "name": "sagemath"
  },
  "language_info": {
   "codemirror_mode": {
    "name": "ipython",
    "version": 2
   },
   "file_extension": ".py",
   "mimetype": "text/x-python",
   "name": "python",
   "nbconvert_exporter": "python",
   "pygments_lexer": "ipython2",
   "version": "2.7.14"
  }
 },
 "nbformat": 4,
 "nbformat_minor": 2
}
